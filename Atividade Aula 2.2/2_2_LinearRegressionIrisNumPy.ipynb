{
  "cells": [
    {
      "cell_type": "markdown",
      "source": [
        "Aluno:\n",
        "Bruno Santos\n",
        "\n",
        "bfss@cesar.school"
      ],
      "metadata": {
        "id": "wFTQxlEDyS6v"
      }
    },
    {
      "cell_type": "markdown",
      "metadata": {
        "id": "5yQgzdjbf9RT"
      },
      "source": [
        "# Regressão Linear com NumPy"
      ]
    },
    {
      "cell_type": "markdown",
      "metadata": {
        "heading_collapsed": true,
        "id": "p5HfrYM3f9RU"
      },
      "source": [
        "## Objetivos deste experimento"
      ]
    },
    {
      "cell_type": "markdown",
      "metadata": {
        "hidden": true,
        "id": "IIYC2db7f9RW"
      },
      "source": [
        "Este exemplo utiliza regressão linear para estimar o comprimento das sépalas da íris a partir do seu comprimento das pétalas.\n",
        "Utiliza-se programação totalmente NumPy com:\n",
        "- o **cálculo do gradiente**,\n",
        "- a **função de perda** e\n",
        "- a atualização dos parâmetros são feitos de forma explícita.\n",
        "- A rede é criada com uma camada como uma classe"
      ]
    },
    {
      "cell_type": "markdown",
      "metadata": {
        "hidden": true,
        "id": "ImJOZIiNf9RW"
      },
      "source": [
        "![alt text](https://raw.githubusercontent.com/vcasadei/images/master/RegressaoLinear_Otimizacao.png)"
      ]
    },
    {
      "cell_type": "markdown",
      "metadata": {
        "heading_collapsed": true,
        "id": "EeTHWCuMf9RX"
      },
      "source": [
        "## Importação dos pacotes"
      ]
    },
    {
      "cell_type": "code",
      "execution_count": 1,
      "metadata": {
        "ExecuteTime": {
          "end_time": "2017-10-08T11:19:38.728936Z",
          "start_time": "2017-10-08T11:19:36.888541Z"
        },
        "hidden": true,
        "id": "5yPytaCLf9RY"
      },
      "outputs": [],
      "source": [
        "%matplotlib inline\n",
        "import matplotlib.pyplot as plt   # para plotting\n",
        "\n",
        "from sklearn.datasets import load_iris  # para carregar dataset\n",
        "\n",
        "import numpy as np  # processamento matricial\n",
        "\n",
        "np.random.seed(1234)"
      ]
    },
    {
      "cell_type": "markdown",
      "metadata": {
        "heading_collapsed": true,
        "id": "wDkSLSnmf9Rc"
      },
      "source": [
        "## Dataset"
      ]
    },
    {
      "cell_type": "markdown",
      "metadata": {
        "heading_collapsed": true,
        "hidden": true,
        "id": "ldcOnrBvf9Rd"
      },
      "source": [
        "### Leitura dos dados"
      ]
    },
    {
      "cell_type": "code",
      "execution_count": 2,
      "metadata": {
        "ExecuteTime": {
          "end_time": "2017-10-08T11:19:38.747769Z",
          "start_time": "2017-10-08T11:19:38.730907Z"
        },
        "colab": {
          "base_uri": "https://localhost:8080/"
        },
        "hidden": true,
        "id": "l3t1qaa0f9Re",
        "outputId": "05271ca1-67d0-4d89-dc8b-d0942c722381"
      },
      "outputs": [
        {
          "output_type": "stream",
          "name": "stdout",
          "text": [
            "x_train.shape: (50, 1) float64\n",
            "y_train.shape: (50, 1) float64\n",
            "x_train[:5]:\n",
            " [[7. ]\n",
            " [6.4]\n",
            " [6.9]\n",
            " [5.5]\n",
            " [6.5]]\n",
            "y_train[:5]:\n",
            " [[4.7]\n",
            " [4.5]\n",
            " [4.9]\n",
            " [4. ]\n",
            " [4.6]]\n"
          ]
        }
      ],
      "source": [
        "iris = load_iris()\n",
        "data = iris.data[iris.target==1,::2]  # comprimento das sépalas e pétalas, indices 0 e 2\n",
        "\n",
        "x_train = data[:,0:1]\n",
        "y_train = data[:,1:2]\n",
        "\n",
        "n_samples = x_train.shape[0]\n",
        "print('x_train.shape:',x_train.shape, x_train.dtype)\n",
        "print('y_train.shape:',y_train.shape, y_train.dtype)\n",
        "\n",
        "print('x_train[:5]:\\n', x_train[:5])\n",
        "print('y_train[:5]:\\n', y_train[:5])"
      ]
    },
    {
      "cell_type": "markdown",
      "metadata": {
        "hidden": true,
        "id": "aPQ-L6FVf9Rk"
      },
      "source": [
        "### Normalização dos dados"
      ]
    },
    {
      "cell_type": "code",
      "execution_count": 3,
      "metadata": {
        "ExecuteTime": {
          "end_time": "2017-10-08T11:19:38.756343Z",
          "start_time": "2017-10-08T11:19:38.750395Z"
        },
        "hidden": true,
        "id": "POM323GEf9Rl"
      },
      "outputs": [],
      "source": [
        "x_train -= x_train.min()\n",
        "x_train /= x_train.max()\n",
        "y_train -= y_train.min()\n",
        "y_train /= y_train.max()"
      ]
    },
    {
      "cell_type": "code",
      "execution_count": 4,
      "metadata": {
        "ExecuteTime": {
          "end_time": "2017-10-08T11:19:39.127199Z",
          "start_time": "2017-10-08T11:19:38.759104Z"
        },
        "colab": {
          "base_uri": "https://localhost:8080/",
          "height": 466
        },
        "hidden": true,
        "id": "dx5AO9Qxf9Rn",
        "outputId": "307d7ff9-56ae-4f06-8def-5ff3c117e306"
      },
      "outputs": [
        {
          "output_type": "execute_result",
          "data": {
            "text/plain": [
              "Text(0, 0.5, 'Comprimento petalas')"
            ]
          },
          "metadata": {},
          "execution_count": 4
        },
        {
          "output_type": "display_data",
          "data": {
            "text/plain": [
              "<Figure size 640x480 with 1 Axes>"
            ],
            "image/png": "[encoded data removed]"
          },
          "metadata": {}
        }
      ],
      "source": [
        "plt.scatter(x_train,y_train)\n",
        "plt.xlabel('Comprimento sepalas')\n",
        "plt.ylabel('Comprimento petalas')"
      ]
    },
    {
      "cell_type": "markdown",
      "metadata": {
        "heading_collapsed": true,
        "id": "poW81teqf9Rr"
      },
      "source": [
        "## Modelo da rede"
      ]
    },
    {
      "cell_type": "markdown",
      "metadata": {
        "hidden": true,
        "id": "QXFLlJ0_f9Rt"
      },
      "source": [
        "### Reta de ajuste"
      ]
    },
    {
      "cell_type": "markdown",
      "metadata": {
        "hidden": true,
        "id": "s7JuPXysf9Rt"
      },
      "source": [
        "A equação da reta no plano necessita de dois parâmetros, aqui denominados $w_0$ (*bias*) e inclinação $w_1$. Veja figura:\n",
        "\n",
        "![alt text](https://raw.githubusercontent.com/vcasadei/images/master/linhareta.png)\n",
        "\n",
        "A reta de ajuste será dada por:\n",
        "\n",
        "$$ \\hat{y} = w_0 + w_1 x $$\n",
        "\n",
        "onde\n",
        "* $w_1$ é o coeficiente angular da reta e\n",
        "* $w_0$ é a interseção do eixo vertical quando x é igual a zero, também denominado de *bias*.\n",
        "* $x$ é a variável de entrada (comprimento das sépalas) e\n",
        "* $\\hat{y}$ é a predição (comprimento estimado das pétalas)."
      ]
    },
    {
      "cell_type": "markdown",
      "metadata": {
        "hidden": true,
        "id": "hwin_xPff9Ru"
      },
      "source": [
        "### Linear Regression Model"
      ]
    },
    {
      "cell_type": "markdown",
      "metadata": {
        "hidden": true,
        "id": "c7ilOLnkf9Rw"
      },
      "source": [
        "![alt text](https://raw.githubusercontent.com/vcasadei/images/master/RegressaoLinearNeuronio.png)"
      ]
    },
    {
      "cell_type": "markdown",
      "metadata": {
        "hidden": true,
        "id": "H0CzMB91f9Rx"
      },
      "source": [
        "### Formulação matricial do neurônio"
      ]
    },
    {
      "cell_type": "markdown",
      "metadata": {
        "hidden": true,
        "id": "-wWz_wpYf9Ry"
      },
      "source": [
        "* $\\mathbf{w} = [w_0 \\ w_1]$ é vetor linha de parâmetros e\n",
        "* $\\mathbf{x} = [1 \\ x_0] $ é vetor linha de uma amostra (com *bias*).\n",
        "\n",
        "$$ \\hat{y} = 1 w_0 + x_0 w_1 $$\n",
        "\n",
        "$$ [\\hat{y}] = [1 \\ x_0] \\begin{bmatrix} w_0 \\\\ w_1 \\end{bmatrix} $$\n",
        "\n",
        "$$ \\mathbf{\\hat{y}} = \\mathbf{x} \\mathbf{w^T} $$"
      ]
    },
    {
      "cell_type": "markdown",
      "metadata": {
        "hidden": true,
        "id": "rQ1lc-dYf9Rz"
      },
      "source": [
        "### Fazendo o predict de várias amostras"
      ]
    },
    {
      "cell_type": "markdown",
      "metadata": {
        "hidden": true,
        "id": "fh068Clrf9R0"
      },
      "source": [
        "$$ \\begin{matrix}\n",
        "\\begin{bmatrix}\n",
        "\\hat{y}_0\\\\\n",
        "\\hat{y}_1\\\\\n",
        "\\\\\n",
        "\\hat{y}_{M-1}\n",
        "\\end{bmatrix} &=& \\begin{bmatrix}\n",
        "1 & x_0 \\\\\n",
        "1 & x_1\\\\\n",
        "\\\\\n",
        "1 & x_{M-1} \\\\\n",
        "\\end{bmatrix}\n",
        "&\n",
        "\\begin{bmatrix}\n",
        "w_0\\\\\n",
        "w_1\n",
        "\\end{bmatrix} \\\\\n",
        "(M,1) & & (M,2) & (2,1) \\\\\n",
        "\\end{matrix} $$"
      ]
    },
    {
      "cell_type": "markdown",
      "metadata": {
        "hidden": true,
        "id": "jjSchAsZf9R2"
      },
      "source": [
        "### Preenchendo x com coluna de 1's para bias"
      ]
    },
    {
      "cell_type": "code",
      "execution_count": 5,
      "metadata": {
        "ExecuteTime": {
          "end_time": "2017-10-08T11:19:39.135089Z",
          "start_time": "2017-10-08T11:19:39.129385Z"
        },
        "hidden": true,
        "id": "plZEY5-tf9R2"
      },
      "outputs": [],
      "source": [
        "x_train_bias = np.hstack([np.ones(shape=(n_samples,1)), x_train])"
      ]
    },
    {
      "cell_type": "code",
      "execution_count": 6,
      "metadata": {
        "colab": {
          "base_uri": "https://localhost:8080/"
        },
        "id": "tXYx3JdMf9R6",
        "outputId": "3b3dd4c6-59aa-4692-9e9f-2b211789c506"
      },
      "outputs": [
        {
          "output_type": "execute_result",
          "data": {
            "text/plain": [
              "array([[1.        , 1.        ],\n",
              "       [1.        , 0.71428571],\n",
              "       [1.        , 0.95238095],\n",
              "       [1.        , 0.28571429],\n",
              "       [1.        , 0.76190476],\n",
              "       [1.        , 0.38095238],\n",
              "       [1.        , 0.66666667],\n",
              "       [1.        , 0.        ],\n",
              "       [1.        , 0.80952381],\n",
              "       [1.        , 0.14285714],\n",
              "       [1.        , 0.04761905],\n",
              "       [1.        , 0.47619048],\n",
              "       [1.        , 0.52380952],\n",
              "       [1.        , 0.57142857],\n",
              "       [1.        , 0.33333333],\n",
              "       [1.        , 0.85714286],\n",
              "       [1.        , 0.33333333],\n",
              "       [1.        , 0.42857143],\n",
              "       [1.        , 0.61904762],\n",
              "       [1.        , 0.33333333],\n",
              "       [1.        , 0.47619048],\n",
              "       [1.        , 0.57142857],\n",
              "       [1.        , 0.66666667],\n",
              "       [1.        , 0.57142857],\n",
              "       [1.        , 0.71428571],\n",
              "       [1.        , 0.80952381],\n",
              "       [1.        , 0.9047619 ],\n",
              "       [1.        , 0.85714286],\n",
              "       [1.        , 0.52380952],\n",
              "       [1.        , 0.38095238],\n",
              "       [1.        , 0.28571429],\n",
              "       [1.        , 0.28571429],\n",
              "       [1.        , 0.42857143],\n",
              "       [1.        , 0.52380952],\n",
              "       [1.        , 0.23809524],\n",
              "       [1.        , 0.52380952],\n",
              "       [1.        , 0.85714286],\n",
              "       [1.        , 0.66666667],\n",
              "       [1.        , 0.33333333],\n",
              "       [1.        , 0.28571429],\n",
              "       [1.        , 0.28571429],\n",
              "       [1.        , 0.57142857],\n",
              "       [1.        , 0.42857143],\n",
              "       [1.        , 0.04761905],\n",
              "       [1.        , 0.33333333],\n",
              "       [1.        , 0.38095238],\n",
              "       [1.        , 0.38095238],\n",
              "       [1.        , 0.61904762],\n",
              "       [1.        , 0.0952381 ],\n",
              "       [1.        , 0.38095238]])"
            ]
          },
          "metadata": {},
          "execution_count": 6
        }
      ],
      "source": [
        "x_train_bias"
      ]
    },
    {
      "cell_type": "markdown",
      "metadata": {
        "hidden": true,
        "id": "GOtS_8OSf9SC"
      },
      "source": [
        "### Classe com o modelo da rede"
      ]
    },
    {
      "cell_type": "code",
      "execution_count": 7,
      "metadata": {
        "ExecuteTime": {
          "end_time": "2017-10-08T11:19:39.143879Z",
          "start_time": "2017-10-08T11:19:39.137134Z"
        },
        "hidden": true,
        "id": "aKLVIQUtf9SD"
      },
      "outputs": [],
      "source": [
        "class Net():\n",
        "    def __init__(self, n_in, n_out):\n",
        "        self.w = np.random.uniform(-0.1,0.1,(n_out,n_in)) #inicialização dos parâmetros\n",
        "\n",
        "    def forward(self, x_bias):\n",
        "        return x_bias.dot(self.w.T)"
      ]
    },
    {
      "cell_type": "markdown",
      "metadata": {
        "hidden": true,
        "id": "0j0hN9l_f9SH"
      },
      "source": [
        "### Criando a rede, instanciando o objeto model"
      ]
    },
    {
      "cell_type": "code",
      "execution_count": 8,
      "metadata": {
        "ExecuteTime": {
          "end_time": "2017-10-08T11:19:39.151717Z",
          "start_time": "2017-10-08T11:19:39.146858Z"
        },
        "hidden": true,
        "id": "5o5Zkqn5f9SI"
      },
      "outputs": [],
      "source": [
        "model = Net(2,1) # duas entradas (1 + x0) e uma saída y_pred"
      ]
    },
    {
      "cell_type": "markdown",
      "metadata": {
        "hidden": true,
        "id": "F3yolUOGf9SL"
      },
      "source": [
        "### Testando o predict da rede (mesmo sem treiná-la)"
      ]
    },
    {
      "cell_type": "code",
      "execution_count": 9,
      "metadata": {
        "ExecuteTime": {
          "end_time": "2017-10-08T11:19:39.162189Z",
          "start_time": "2017-10-08T11:19:39.156018Z"
        },
        "colab": {
          "base_uri": "https://localhost:8080/"
        },
        "hidden": true,
        "id": "BzkEurfof9SN",
        "outputId": "10f54b22-310a-4db6-e4e1-3098f13d5d5f"
      },
      "outputs": [
        {
          "output_type": "execute_result",
          "data": {
            "text/plain": [
              "array([[-0.09602795],\n",
              "       [ 0.0661236 ],\n",
              "       [-0.06857828],\n",
              "       [-0.05573871]])"
            ]
          },
          "metadata": {},
          "execution_count": 9
        }
      ],
      "source": [
        "xin = np.random.randn(4,2) # 4 amostras, 2 entradas (1 + x0)\n",
        "ypred = model.forward(xin)\n",
        "ypred"
      ]
    },
    {
      "cell_type": "markdown",
      "metadata": {
        "heading_collapsed": true,
        "id": "edoSiy--f9SS"
      },
      "source": [
        "## Treinamento via gradiente descendente"
      ]
    },
    {
      "cell_type": "markdown",
      "metadata": {
        "hidden": true,
        "id": "SnkXXFref9ST"
      },
      "source": [
        "Função de perda:\n",
        "$$ J(\\hat{y_i},y_i) = \\frac{1}{M} \\sum_{i=0}^{M-1} (\\hat{y_i} - y_i)^2 $$"
      ]
    },
    {
      "cell_type": "markdown",
      "metadata": {
        "ExecuteTime": {
          "end_time": "2017-10-05T14:05:06.244776",
          "start_time": "2017-10-05T14:05:06.240743"
        },
        "hidden": true,
        "id": "6W5QcPwUf9SU"
      },
      "source": [
        "Gradiente:\n",
        "$$  \\mathbf{\\nabla{J_w}} = \\frac{2}{M}\\mathbf{x^T}(\\mathbf{x w^T} - \\mathbf{y}) $$"
      ]
    },
    {
      "cell_type": "markdown",
      "metadata": {
        "ExecuteTime": {
          "end_time": "2017-10-05T14:06:17.929718",
          "start_time": "2017-10-05T14:06:17.925519"
        },
        "hidden": true,
        "id": "6OoQuuvAf9SU"
      },
      "source": [
        "Atualização dos parâmetros pelo gradiente descendente:\n",
        "$$ \\mathbf{w} = \\mathbf{w} − \\eta (\\mathbf{\\nabla J_w})^T $$"
      ]
    },
    {
      "cell_type": "markdown",
      "metadata": {
        "hidden": true,
        "id": "YM0fEnAdf9SW"
      },
      "source": [
        "### Laço de treinamento"
      ]
    },
    {
      "cell_type": "code",
      "execution_count": 10,
      "metadata": {
        "ExecuteTime": {
          "end_time": "2017-10-08T11:19:39.183784Z",
          "start_time": "2017-10-08T11:19:39.165347Z"
        },
        "colab": {
          "base_uri": "https://localhost:8080/"
        },
        "hidden": true,
        "id": "BiCGgqp6f9SX",
        "outputId": "5989ea83-d0e1-47a2-fe0c-b1025bdeee16",
        "scrolled": false
      },
      "outputs": [
        {
          "output_type": "stream",
          "name": "stdout",
          "text": [
            "Epoch[1/100], loss: 0.469163\n",
            "Epoch[2/100], loss: 0.058070\n",
            "Epoch[3/100], loss: 0.030543\n",
            "Epoch[4/100], loss: 0.028105\n",
            "Epoch[5/100], loss: 0.027364\n",
            "Epoch[6/100], loss: 0.026787\n",
            "Epoch[7/100], loss: 0.026269\n",
            "Epoch[8/100], loss: 0.025799\n",
            "Epoch[9/100], loss: 0.025373\n",
            "Epoch[10/100], loss: 0.024986\n",
            "Epoch[11/100], loss: 0.024634\n",
            "Epoch[12/100], loss: 0.024315\n",
            "Epoch[13/100], loss: 0.024025\n",
            "Epoch[14/100], loss: 0.023762\n",
            "Epoch[15/100], loss: 0.023524\n",
            "Epoch[16/100], loss: 0.023307\n",
            "Epoch[17/100], loss: 0.023110\n",
            "Epoch[18/100], loss: 0.022931\n",
            "Epoch[19/100], loss: 0.022769\n",
            "Epoch[20/100], loss: 0.022622\n",
            "Epoch[21/100], loss: 0.022488\n",
            "Epoch[22/100], loss: 0.022366\n",
            "Epoch[23/100], loss: 0.022256\n",
            "Epoch[24/100], loss: 0.022156\n",
            "Epoch[25/100], loss: 0.022065\n",
            "Epoch[26/100], loss: 0.021983\n",
            "Epoch[27/100], loss: 0.021908\n",
            "Epoch[28/100], loss: 0.021840\n",
            "Epoch[29/100], loss: 0.021778\n",
            "Epoch[30/100], loss: 0.021722\n",
            "Epoch[31/100], loss: 0.021671\n",
            "Epoch[32/100], loss: 0.021625\n",
            "Epoch[33/100], loss: 0.021583\n",
            "Epoch[34/100], loss: 0.021545\n",
            "Epoch[35/100], loss: 0.021510\n",
            "Epoch[36/100], loss: 0.021479\n",
            "Epoch[37/100], loss: 0.021450\n",
            "Epoch[38/100], loss: 0.021425\n",
            "Epoch[39/100], loss: 0.021401\n",
            "Epoch[40/100], loss: 0.021380\n",
            "Epoch[41/100], loss: 0.021360\n",
            "Epoch[42/100], loss: 0.021343\n",
            "Epoch[43/100], loss: 0.021327\n",
            "Epoch[44/100], loss: 0.021312\n",
            "Epoch[45/100], loss: 0.021299\n",
            "Epoch[46/100], loss: 0.021287\n",
            "Epoch[47/100], loss: 0.021276\n",
            "Epoch[48/100], loss: 0.021267\n",
            "Epoch[49/100], loss: 0.021258\n",
            "Epoch[50/100], loss: 0.021249\n",
            "Epoch[51/100], loss: 0.021242\n",
            "Epoch[52/100], loss: 0.021235\n",
            "Epoch[53/100], loss: 0.021229\n",
            "Epoch[54/100], loss: 0.021224\n",
            "Epoch[55/100], loss: 0.021219\n",
            "Epoch[56/100], loss: 0.021214\n",
            "Epoch[57/100], loss: 0.021210\n",
            "Epoch[58/100], loss: 0.021206\n",
            "Epoch[59/100], loss: 0.021203\n",
            "Epoch[60/100], loss: 0.021200\n",
            "Epoch[61/100], loss: 0.021197\n",
            "Epoch[62/100], loss: 0.021195\n",
            "Epoch[63/100], loss: 0.021192\n",
            "Epoch[64/100], loss: 0.021190\n",
            "Epoch[65/100], loss: 0.021188\n",
            "Epoch[66/100], loss: 0.021186\n",
            "Epoch[67/100], loss: 0.021185\n",
            "Epoch[68/100], loss: 0.021183\n",
            "Epoch[69/100], loss: 0.021182\n",
            "Epoch[70/100], loss: 0.021181\n",
            "Epoch[71/100], loss: 0.021180\n",
            "Epoch[72/100], loss: 0.021179\n",
            "Epoch[73/100], loss: 0.021178\n",
            "Epoch[74/100], loss: 0.021177\n",
            "Epoch[75/100], loss: 0.021177\n",
            "Epoch[76/100], loss: 0.021176\n",
            "Epoch[77/100], loss: 0.021175\n",
            "Epoch[78/100], loss: 0.021175\n",
            "Epoch[79/100], loss: 0.021174\n",
            "Epoch[80/100], loss: 0.021174\n",
            "Epoch[81/100], loss: 0.021173\n",
            "Epoch[82/100], loss: 0.021173\n",
            "Epoch[83/100], loss: 0.021173\n",
            "Epoch[84/100], loss: 0.021172\n",
            "Epoch[85/100], loss: 0.021172\n",
            "Epoch[86/100], loss: 0.021172\n",
            "Epoch[87/100], loss: 0.021172\n",
            "Epoch[88/100], loss: 0.021171\n",
            "Epoch[89/100], loss: 0.021171\n",
            "Epoch[90/100], loss: 0.021171\n",
            "Epoch[91/100], loss: 0.021171\n",
            "Epoch[92/100], loss: 0.021171\n",
            "Epoch[93/100], loss: 0.021171\n",
            "Epoch[94/100], loss: 0.021171\n",
            "Epoch[95/100], loss: 0.021170\n",
            "Epoch[96/100], loss: 0.021170\n",
            "Epoch[97/100], loss: 0.021170\n",
            "Epoch[98/100], loss: 0.021170\n",
            "Epoch[99/100], loss: 0.021170\n",
            "Epoch[100/100], loss: 0.021170\n"
          ]
        }
      ],
      "source": [
        "num_epochs = 100\n",
        "learning_rate = 0.5\n",
        "for epoch in range(num_epochs):\n",
        "\n",
        "    # forward - predict\n",
        "    y_pred = model.forward(x_train_bias)\n",
        "\n",
        "    #loss cálculo da função de perda\n",
        "    loss = np.square(y_pred - y_train).mean()\n",
        "\n",
        "    # cálculo do gradiente pelas derivadas parciais\n",
        "    w_grad = (2.0/n_samples) * (x_train_bias.T).dot(x_train_bias.dot(model.w.T) - y_train)\n",
        "\n",
        "    # gradiente descendente\n",
        "    model.w = model.w - learning_rate * w_grad.T\n",
        "\n",
        "    # verbose\n",
        "    if (epoch+1) % 1 == 0:\n",
        "        print('Epoch[{}/{}], loss: {:.6f}'\n",
        "              .format(epoch+1, num_epochs, loss))"
      ]
    },
    {
      "cell_type": "markdown",
      "metadata": {
        "heading_collapsed": true,
        "id": "1QGlDZABf9Sd"
      },
      "source": [
        "## Avaliação"
      ]
    },
    {
      "cell_type": "markdown",
      "metadata": {
        "hidden": true,
        "id": "6TIimlCmf9Si"
      },
      "source": [
        "### Predict"
      ]
    },
    {
      "cell_type": "code",
      "execution_count": 11,
      "metadata": {
        "ExecuteTime": {
          "end_time": "2017-10-08T11:19:39.408412Z",
          "start_time": "2017-10-08T11:19:39.186021Z"
        },
        "colab": {
          "base_uri": "https://localhost:8080/",
          "height": 447
        },
        "hidden": true,
        "id": "ToXwbrlsf9Sk",
        "outputId": "bac55cb1-a4e9-4106-a6ba-425539da55ba"
      },
      "outputs": [
        {
          "output_type": "execute_result",
          "data": {
            "text/plain": [
              "[<matplotlib.lines.Line2D at 0x7cacf7c1fee0>]"
            ]
          },
          "metadata": {},
          "execution_count": 11
        },
        {
          "output_type": "display_data",
          "data": {
            "text/plain": [
              "<Figure size 640x480 with 1 Axes>"
            ],
            "image/png": "[encoded data removed]"
          },
          "metadata": {}
        }
      ],
      "source": [
        "y_pred = model.forward(x_train_bias)\n",
        "plt.plot(x_train, y_train, 'ro', label='Original data')\n",
        "plt.plot(x_train, y_pred, 'kx-', label='Fitting Line')"
      ]
    },
    {
      "cell_type": "markdown",
      "metadata": {
        "hidden": true,
        "id": "kQ1hGdItf9So"
      },
      "source": [
        "### Parâmetros treinados"
      ]
    },
    {
      "cell_type": "code",
      "execution_count": 12,
      "metadata": {
        "ExecuteTime": {
          "end_time": "2017-10-08T11:19:39.417569Z",
          "start_time": "2017-10-08T11:19:39.411060Z"
        },
        "colab": {
          "base_uri": "https://localhost:8080/"
        },
        "hidden": true,
        "id": "IcEOxTg9f9Sp",
        "outputId": "16650049-8a5a-4805-f424-f9326f25b03c"
      },
      "outputs": [
        {
          "output_type": "stream",
          "name": "stdout",
          "text": [
            "[[0.26295353 0.68335641]]\n"
          ]
        }
      ],
      "source": [
        "print(model.w)"
      ]
    },
    {
      "cell_type": "markdown",
      "metadata": {
        "hidden": true,
        "id": "73n0qSOMf9Sr"
      },
      "source": [
        "### Avaliação do modelo"
      ]
    },
    {
      "cell_type": "code",
      "execution_count": 13,
      "metadata": {
        "colab": {
          "base_uri": "https://localhost:8080/"
        },
        "hidden": true,
        "id": "dI2TE8W6f9Ss",
        "outputId": "3718ce3d-2f47-480d-93f6-6781097bd441"
      },
      "outputs": [
        {
          "output_type": "execute_result",
          "data": {
            "text/plain": [
              "0.02117000379151052"
            ]
          },
          "metadata": {},
          "execution_count": 13
        }
      ],
      "source": [
        "loss = np.square(y_pred - y_train).mean()\n",
        "loss"
      ]
    },
    {
      "cell_type": "markdown",
      "metadata": {
        "hidden": true,
        "id": "cv6q3ElSf9Sv"
      },
      "source": [
        "### Valor ótimo, solução analítica"
      ]
    },
    {
      "cell_type": "markdown",
      "metadata": {
        "hidden": true,
        "id": "qYgHOaNmf9Sv"
      },
      "source": [
        "$$  \\mathbf{w} =(\\mathbf{x^T} \\mathbf{x})^{−1}\\mathbf{x^T} \\mathbf{y} $$"
      ]
    },
    {
      "cell_type": "code",
      "execution_count": 14,
      "metadata": {
        "ExecuteTime": {
          "end_time": "2017-10-08T11:19:39.432480Z",
          "start_time": "2017-10-08T11:19:39.420006Z"
        },
        "colab": {
          "base_uri": "https://localhost:8080/"
        },
        "hidden": true,
        "id": "OmrggYvmf9Sw",
        "outputId": "bb7a484c-39cd-40ea-feb4-6a26af40c634"
      },
      "outputs": [
        {
          "output_type": "stream",
          "name": "stdout",
          "text": [
            "[[0.26134159 0.68646976]]\n"
          ]
        }
      ],
      "source": [
        "x = x_train_bias\n",
        "y = y_train\n",
        "w_opt = (np.linalg.inv((x.T).dot(x)).dot(x.T)).dot(y)\n",
        "print(w_opt.T)"
      ]
    },
    {
      "cell_type": "markdown",
      "metadata": {
        "heading_collapsed": true,
        "id": "2eMOcW8Ff9Sz"
      },
      "source": [
        "# Exercícios"
      ]
    },
    {
      "cell_type": "markdown",
      "metadata": {
        "hidden": true,
        "id": "tCKeOB1-f9S1"
      },
      "source": [
        "## Questões"
      ]
    },
    {
      "cell_type": "markdown",
      "metadata": {
        "hidden": true,
        "id": "c-KyP13vf9S2"
      },
      "source": [
        "1. Quantos parâmetros são treinados nesse modelo?\n",
        "\n",
        "2. Qual é o número de atributos de entrada para a rede?\n",
        "\n",
        "3. Qual é o número de saídas da rede?\n",
        "\n",
        "4. Suponha que eu tenha agora 5 mil amostras para fazer a predição. Qual é o shape da matriz de entrada?\n",
        "   Qual é o shape do matriz de saída?\n"
      ]
    },
    {
      "cell_type": "markdown",
      "metadata": {
        "hidden": true,
        "id": "oaj0t2gpf9S3"
      },
      "source": [
        "## Atividades"
      ]
    },
    {
      "cell_type": "markdown",
      "metadata": {
        "hidden": true,
        "id": "pR_fNYurf9S3"
      },
      "source": [
        "1. Modifique o laço do treinamento via gradiente descendente para guardar em uma lista, o valor da perda no final\n",
        "   de cada época. Após o treinamento, plote o valor da perda em função da época.\n",
        "2. Calcule o valor da perda (MSE) da rede com os parâmetros inicializados, sem serem treinados.\n",
        "3. Coloque os valores dos pesos da solução ótima analítica no modelo da rede e calcule o valor da perda (MSE) e\n",
        "   compare com o valor da perda obtida pelo método da otimização via gradiente descendente."
      ]
    },
    {
      "cell_type": "markdown",
      "source": [
        "### Atividade 1"
      ],
      "metadata": {
        "id": "2QY0_peTuGOC"
      }
    },
    {
      "cell_type": "code",
      "source": [
        "model1 = Net(2,1)\n",
        "loss_historico = []\n",
        "num_epochs = 100\n",
        "learning_rate = 0.5\n",
        "for epoch in range(num_epochs):\n",
        "\n",
        "    # forward - predict\n",
        "    y_pred = model1.forward(x_train_bias)\n",
        "\n",
        "    #loss cálculo da função de perda\n",
        "    loss1 = np.square(y_pred - y_train).mean()\n",
        "\n",
        "    # cálculo do gradiente pelas derivadas parciais\n",
        "    w_grad = (2.0/n_samples) * (x_train_bias.T).dot(x_train_bias.dot(model1.w.T) - y_train)\n",
        "\n",
        "    # gradiente descendente\n",
        "    model1.w = model1.w - learning_rate * w_grad.T\n",
        "\n",
        "    # armazenando o valor da perda\n",
        "    loss_historico.append(loss1)\n",
        "\n",
        "    # verbose\n",
        "    if (epoch+1) % 1 == 0:\n",
        "        print('Epoch[{}/{}], loss: {:.6f}'\n",
        "              .format(epoch+1, num_epochs, loss1))\n",
        "\n",
        "print(\"Perdas\")\n",
        "print(loss_historico)"
      ],
      "metadata": {
        "colab": {
          "base_uri": "https://localhost:8080/"
        },
        "id": "eXWecNRUtwoT",
        "outputId": "8742a5ec-5bd2-4bb6-9878-e7970e8db02f"
      },
      "execution_count": 20,
      "outputs": [
        {
          "output_type": "stream",
          "name": "stdout",
          "text": [
            "Epoch[1/100], loss: 0.426235\n",
            "Epoch[2/100], loss: 0.055879\n",
            "Epoch[3/100], loss: 0.030954\n",
            "Epoch[4/100], loss: 0.028635\n",
            "Epoch[5/100], loss: 0.027855\n",
            "Epoch[6/100], loss: 0.027233\n",
            "Epoch[7/100], loss: 0.026674\n",
            "Epoch[8/100], loss: 0.026167\n",
            "Epoch[9/100], loss: 0.025707\n",
            "Epoch[10/100], loss: 0.025289\n",
            "Epoch[11/100], loss: 0.024910\n",
            "Epoch[12/100], loss: 0.024565\n",
            "Epoch[13/100], loss: 0.024253\n",
            "Epoch[14/100], loss: 0.023969\n",
            "Epoch[15/100], loss: 0.023711\n",
            "Epoch[16/100], loss: 0.023477\n",
            "Epoch[17/100], loss: 0.023264\n",
            "Epoch[18/100], loss: 0.023071\n",
            "Epoch[19/100], loss: 0.022896\n",
            "Epoch[20/100], loss: 0.022737\n",
            "Epoch[21/100], loss: 0.022593\n",
            "Epoch[22/100], loss: 0.022462\n",
            "Epoch[23/100], loss: 0.022343\n",
            "Epoch[24/100], loss: 0.022235\n",
            "Epoch[25/100], loss: 0.022136\n",
            "Epoch[26/100], loss: 0.022047\n",
            "Epoch[27/100], loss: 0.021967\n",
            "Epoch[28/100], loss: 0.021893\n",
            "Epoch[29/100], loss: 0.021826\n",
            "Epoch[30/100], loss: 0.021766\n",
            "Epoch[31/100], loss: 0.021711\n",
            "Epoch[32/100], loss: 0.021661\n",
            "Epoch[33/100], loss: 0.021616\n",
            "Epoch[34/100], loss: 0.021575\n",
            "Epoch[35/100], loss: 0.021537\n",
            "Epoch[36/100], loss: 0.021504\n",
            "Epoch[37/100], loss: 0.021473\n",
            "Epoch[38/100], loss: 0.021445\n",
            "Epoch[39/100], loss: 0.021419\n",
            "Epoch[40/100], loss: 0.021396\n",
            "Epoch[41/100], loss: 0.021376\n",
            "Epoch[42/100], loss: 0.021357\n",
            "Epoch[43/100], loss: 0.021339\n",
            "Epoch[44/100], loss: 0.021324\n",
            "Epoch[45/100], loss: 0.021309\n",
            "Epoch[46/100], loss: 0.021297\n",
            "Epoch[47/100], loss: 0.021285\n",
            "Epoch[48/100], loss: 0.021274\n",
            "Epoch[49/100], loss: 0.021265\n",
            "Epoch[50/100], loss: 0.021256\n",
            "Epoch[51/100], loss: 0.021248\n",
            "Epoch[52/100], loss: 0.021241\n",
            "Epoch[53/100], loss: 0.021234\n",
            "Epoch[54/100], loss: 0.021228\n",
            "Epoch[55/100], loss: 0.021223\n",
            "Epoch[56/100], loss: 0.021218\n",
            "Epoch[57/100], loss: 0.021213\n",
            "Epoch[58/100], loss: 0.021209\n",
            "Epoch[59/100], loss: 0.021206\n",
            "Epoch[60/100], loss: 0.021202\n",
            "Epoch[61/100], loss: 0.021199\n",
            "Epoch[62/100], loss: 0.021197\n",
            "Epoch[63/100], loss: 0.021194\n",
            "Epoch[64/100], loss: 0.021192\n",
            "Epoch[65/100], loss: 0.021190\n",
            "Epoch[66/100], loss: 0.021188\n",
            "Epoch[67/100], loss: 0.021186\n",
            "Epoch[68/100], loss: 0.021185\n",
            "Epoch[69/100], loss: 0.021183\n",
            "Epoch[70/100], loss: 0.021182\n",
            "Epoch[71/100], loss: 0.021181\n",
            "Epoch[72/100], loss: 0.021180\n",
            "Epoch[73/100], loss: 0.021179\n",
            "Epoch[74/100], loss: 0.021178\n",
            "Epoch[75/100], loss: 0.021177\n",
            "Epoch[76/100], loss: 0.021176\n",
            "Epoch[77/100], loss: 0.021176\n",
            "Epoch[78/100], loss: 0.021175\n",
            "Epoch[79/100], loss: 0.021175\n",
            "Epoch[80/100], loss: 0.021174\n",
            "Epoch[81/100], loss: 0.021174\n",
            "Epoch[82/100], loss: 0.021173\n",
            "Epoch[83/100], loss: 0.021173\n",
            "Epoch[84/100], loss: 0.021173\n",
            "Epoch[85/100], loss: 0.021172\n",
            "Epoch[86/100], loss: 0.021172\n",
            "Epoch[87/100], loss: 0.021172\n",
            "Epoch[88/100], loss: 0.021172\n",
            "Epoch[89/100], loss: 0.021171\n",
            "Epoch[90/100], loss: 0.021171\n",
            "Epoch[91/100], loss: 0.021171\n",
            "Epoch[92/100], loss: 0.021171\n",
            "Epoch[93/100], loss: 0.021171\n",
            "Epoch[94/100], loss: 0.021171\n",
            "Epoch[95/100], loss: 0.021171\n",
            "Epoch[96/100], loss: 0.021170\n",
            "Epoch[97/100], loss: 0.021170\n",
            "Epoch[98/100], loss: 0.021170\n",
            "Epoch[99/100], loss: 0.021170\n",
            "Epoch[100/100], loss: 0.021170\n",
            "Perdas\n",
            "[0.42623474067847744, 0.05587914959044243, 0.030953827421059173, 0.028635097325326972, 0.027855036117608603, 0.0272332696084596, 0.026674406928920966, 0.02616738245366014, 0.0257070780075364, 0.025289168320602955, 0.02490974744941594, 0.024565270549313106, 0.024252519338593636, 0.02396857193920762, 0.0237107755730798, 0.02347672177814152, 0.0232642239072527, 0.02307129669945335, 0.022896137732666674, 0.022737110584574203, 0.022592729544343323, 0.022461645732376648, 0.022342634498406885, 0.022234583980204028, 0.022136484716004542, 0.022047420213616754, 0.021966558388094262, 0.02189314378798386, 0.02182649053752181, 0.021765975928840758, 0.021711034604322665, 0.02166115327474634, 0.02161586592388382, 0.021574749454744663, 0.021537419736793125, 0.02150352801720927, 0.021472757662666507, 0.021444821201185266, 0.021419457636426588, 0.021396430009334316, 0.02137552318434556, 0.021356541839487084, 0.02133930864158019, 0.021323662589505767, 0.021309457510051664, 0.02129656069228976, 0.0212848516477243, 0.021274220984628417, 0.02126456938605208, 0.021255806681953714, 0.02124785100678671, 0.021240628034670764, 0.02123407028500243, 0.02122811649201775, 0.021222711032416925, 0.021217803405703787, 0.02121334776238498, 0.02120930247562115, 0.02120562975232831, 0.02120229528009598, 0.02119926790662359, 0.02119651934868016, 0.021194023927868268, 0.021191758330723634, 0.02118970139090921, 0.02118783389146864, 0.02118613838529191, 0.021184599032115718, 0.021183201450535934, 0.02118193258364925, 0.02118078057706918, 0.0211797346681764, 0.021178785085569033, 0.021177922957773373, 0.021177140230362088, 0.021176429590705818, 0.021175784399654906, 0.021175198629513163, 0.021174666807724146, 0.02117418396574379, 0.021173745592621793, 0.021173347592858095, 0.021172986248140638, 0.021172658182607093, 0.021172360331305814, 0.021172089911561588, 0.021171844396978456, 0.02117162149383689, 0.021171419119664702, 0.02117123538378157, 0.021171068569635357, 0.02117091711876521, 0.021170779616241663, 0.021170654777447638, 0.02117054143607695, 0.021170438533238044, 0.02117034510756135, 0.02117026028621765, 0.021170183276763708, 0.021170113359738837]\n"
          ]
        }
      ]
    },
    {
      "cell_type": "code",
      "source": [
        "plt.plot(range(1, num_epochs + 1), loss_historico, 'b-', marker='x')\n",
        "plt.xlabel('Época')\n",
        "plt.ylabel('Perda')\n",
        "plt.title('Perda vs. Época')\n",
        "plt.show()"
      ],
      "metadata": {
        "colab": {
          "base_uri": "https://localhost:8080/",
          "height": 476
        },
        "id": "vQrSORihvKY2",
        "outputId": "f6d5fb00-3a6f-4623-f314-9c0a4c389f5c"
      },
      "execution_count": 21,
      "outputs": [
        {
          "output_type": "display_data",
          "data": {
            "text/plain": [
              "<Figure size 640x480 with 1 Axes>"
            ],
            "image/png": "[encoded data removed]"
          },
          "metadata": {}
        }
      ]
    },
    {
      "cell_type": "markdown",
      "source": [
        "### Atividade 2"
      ],
      "metadata": {
        "id": "KyUtgoKhuIB6"
      }
    },
    {
      "cell_type": "code",
      "source": [
        "# modelo\n",
        "model2 = Net(2,1)\n",
        "print(model2.w)\n",
        "y_pred = model2.forward(x_train_bias)\n",
        "\n",
        "# perda\n",
        "loss2 = np.square(y_pred - y_train).mean()\n",
        "print(\"Perda sem o treinamento: \")\n",
        "print(loss2)"
      ],
      "metadata": {
        "colab": {
          "base_uri": "https://localhost:8080/"
        },
        "id": "SS4Ea9A1uKoq",
        "outputId": "131fb924-1c7c-4828-d502-ef8f17523a9e"
      },
      "execution_count": 22,
      "outputs": [
        {
          "output_type": "stream",
          "name": "stdout",
          "text": [
            "[[-0.08492375 -0.0262352 ]]\n",
            "Perda sem o treinamento: \n",
            "0.5382612343347966\n"
          ]
        }
      ]
    },
    {
      "cell_type": "markdown",
      "source": [
        "### Atividade 3"
      ],
      "metadata": {
        "id": "oNyuqHdfuJRS"
      }
    },
    {
      "cell_type": "markdown",
      "source": [
        "Coloque os valores dos pesos da solução ótima analítica no modelo da rede e calcule o valor da perda (MSE) e\n",
        "   compare com o valor da perda obtida pelo método da otimização via gradiente descendente."
      ],
      "metadata": {
        "id": "hHJPHUt5wJer"
      }
    },
    {
      "cell_type": "code",
      "source": [
        "x = x_train_bias\n",
        "y = y_train\n",
        "w_opt = (np.linalg.inv((x.T).dot(x)).dot(x.T)).dot(y)\n",
        "print(w_opt.T)\n",
        "\n",
        "model3 = Net(2,1)\n",
        "model3.w = w_opt.T\n",
        "y_pred = model3.forward(x_train_bias)\n",
        "\n",
        "# perda\n",
        "loss3 = np.square(y_pred - y_train).mean()\n",
        "print(\"Perda com os pesos da solução ótima analítica: \")\n",
        "print(loss3)"
      ],
      "metadata": {
        "colab": {
          "base_uri": "https://localhost:8080/"
        },
        "id": "S7KDjIlmuK85",
        "outputId": "c4eaef86-a470-48d6-cda6-80e45ccc4725"
      },
      "execution_count": 23,
      "outputs": [
        {
          "output_type": "stream",
          "name": "stdout",
          "text": [
            "[[0.26134159 0.68646976]]\n",
            "Perda com os pesos da solução ótima analítica: \n",
            "0.021169424119097165\n"
          ]
        }
      ]
    },
    {
      "cell_type": "code",
      "source": [
        "# treinamento\n",
        "model4 = Net(2,1)\n",
        "num_epochs = 100\n",
        "learning_rate = 0.5\n",
        "for epoch in range(num_epochs):\n",
        "\n",
        "    # forward - predict\n",
        "    y_pred = model4.forward(x_train_bias)\n",
        "\n",
        "    #loss cálculo da função de perda\n",
        "    loss4 = np.square(y_pred - y_train).mean()\n",
        "\n",
        "    # cálculo do gradiente pelas derivadas parciais\n",
        "    w_grad = (2.0/n_samples) * (x_train_bias.T).dot(x_train_bias.dot(model4.w.T) - y_train)\n",
        "\n",
        "    # gradiente descendente\n",
        "    model4.w = model4.w - learning_rate * w_grad.T\n",
        "\n",
        "print(\"Melhor perda treinada\")\n",
        "print(loss4)"
      ],
      "metadata": {
        "colab": {
          "base_uri": "https://localhost:8080/"
        },
        "id": "NC7iR3rQxANh",
        "outputId": "ac89900c-f01d-4e0a-cd45-95edb8febcf0"
      },
      "execution_count": 25,
      "outputs": [
        {
          "output_type": "stream",
          "name": "stdout",
          "text": [
            "Melhor perda treinada\n",
            "0.021170125435400488\n"
          ]
        }
      ]
    },
    {
      "cell_type": "markdown",
      "metadata": {
        "collapsed": true,
        "id": "tgmMhSm2f9S4"
      },
      "source": [
        "# Aprendizados"
      ]
    },
    {
      "cell_type": "markdown",
      "source": [
        "Com esse notebook, foi possivel estudar mais sobre regressão linear, aprendendo sobre a base e sua estrutura em código."
      ],
      "metadata": {
        "id": "tRHC3hrOv6k0"
      }
    }
  ],
  "metadata": {
    "accelerator": "TPU",
    "colab": {
      "provenance": [],
      "gpuType": "V28"
    },
    "kernelspec": {
      "display_name": "Python 3.10.2 64-bit",
      "language": "python",
      "name": "python3"
    },
    "language_info": {
      "name": "python",
      "version": "3.10.2"
    },
    "vscode": {
      "interpreter": {
        "hash": "5fe3e6f0cdaab8afdc61c52912fda83f7c0a71baaea1897dd7498e2df01e69ec"
      }
    }
  },
  "nbformat": 4,
  "nbformat_minor": 0
}